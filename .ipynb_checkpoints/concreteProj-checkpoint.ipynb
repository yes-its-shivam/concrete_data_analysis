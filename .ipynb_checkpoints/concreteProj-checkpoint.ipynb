{
 "cells": [
  {
   "cell_type": "code",
   "execution_count": 32,
   "id": "f4e11c85",
   "metadata": {},
   "outputs": [],
   "source": [
    "# importing libraries\n",
    "import pandas as pd\n",
    "import numpy as np                     \n",
    "import seaborn as sns                 \n",
    "import matplotlib.pyplot as plt \n",
    "import seaborn as sn                  \n",
    "%matplotlib inline\n",
    "import warnings                      \n",
    "warnings.filterwarnings(\"ignore\")\n",
    "import stats"
   ]
  },
  {
   "cell_type": "code",
   "execution_count": 30,
   "id": "c2e4e12b",
   "metadata": {},
   "outputs": [
    {
     "name": "stdout",
     "output_type": "stream",
     "text": [
      "Collecting stats\n",
      "  Using cached stats-0.1.2a.tar.gz (127 kB)\n",
      "Building wheels for collected packages: stats\n",
      "  Building wheel for stats (setup.py): started\n",
      "  Building wheel for stats (setup.py): finished with status 'done'\n",
      "  Created wheel for stats: filename=stats-0.1.2a0-py3-none-any.whl size=24277 sha256=220ebfd6ea0ae80c2f78e62f5943dd6c515ef45d313ca0252e350e6862dc110b\n",
      "  Stored in directory: c:\\users\\shiva\\appdata\\local\\pip\\cache\\wheels\\64\\d6\\01\\2701e2703a6fbd73f8b994044b8bf1b154cc7808bd1b88df49\n",
      "Successfully built stats\n",
      "Installing collected packages: stats\n",
      "Successfully installed stats-0.1.2a0\n",
      "Note: you may need to restart the kernel to use updated packages.\n"
     ]
    }
   ],
   "source": [
    "pip install stats"
   ]
  },
  {
   "cell_type": "code",
   "execution_count": 33,
   "id": "c71f477e",
   "metadata": {},
   "outputs": [
    {
     "data": {
      "text/html": [
       "<div>\n",
       "<style scoped>\n",
       "    .dataframe tbody tr th:only-of-type {\n",
       "        vertical-align: middle;\n",
       "    }\n",
       "\n",
       "    .dataframe tbody tr th {\n",
       "        vertical-align: top;\n",
       "    }\n",
       "\n",
       "    .dataframe thead th {\n",
       "        text-align: right;\n",
       "    }\n",
       "</style>\n",
       "<table border=\"1\" class=\"dataframe\">\n",
       "  <thead>\n",
       "    <tr style=\"text-align: right;\">\n",
       "      <th></th>\n",
       "      <th>cement</th>\n",
       "      <th>slag</th>\n",
       "      <th>ash</th>\n",
       "      <th>water</th>\n",
       "      <th>superplastic</th>\n",
       "      <th>coarseagg</th>\n",
       "      <th>fineagg</th>\n",
       "      <th>age</th>\n",
       "      <th>strength</th>\n",
       "    </tr>\n",
       "  </thead>\n",
       "  <tbody>\n",
       "    <tr>\n",
       "      <th>0</th>\n",
       "      <td>141.3</td>\n",
       "      <td>212.0</td>\n",
       "      <td>0.0</td>\n",
       "      <td>203.5</td>\n",
       "      <td>0.0</td>\n",
       "      <td>971.8</td>\n",
       "      <td>748.5</td>\n",
       "      <td>28</td>\n",
       "      <td>29.89</td>\n",
       "    </tr>\n",
       "    <tr>\n",
       "      <th>1</th>\n",
       "      <td>168.9</td>\n",
       "      <td>42.2</td>\n",
       "      <td>124.3</td>\n",
       "      <td>158.3</td>\n",
       "      <td>10.8</td>\n",
       "      <td>1080.8</td>\n",
       "      <td>796.2</td>\n",
       "      <td>14</td>\n",
       "      <td>23.51</td>\n",
       "    </tr>\n",
       "    <tr>\n",
       "      <th>2</th>\n",
       "      <td>250.0</td>\n",
       "      <td>0.0</td>\n",
       "      <td>95.7</td>\n",
       "      <td>187.4</td>\n",
       "      <td>5.5</td>\n",
       "      <td>956.9</td>\n",
       "      <td>861.2</td>\n",
       "      <td>28</td>\n",
       "      <td>29.22</td>\n",
       "    </tr>\n",
       "    <tr>\n",
       "      <th>3</th>\n",
       "      <td>266.0</td>\n",
       "      <td>114.0</td>\n",
       "      <td>0.0</td>\n",
       "      <td>228.0</td>\n",
       "      <td>0.0</td>\n",
       "      <td>932.0</td>\n",
       "      <td>670.0</td>\n",
       "      <td>28</td>\n",
       "      <td>45.85</td>\n",
       "    </tr>\n",
       "    <tr>\n",
       "      <th>4</th>\n",
       "      <td>154.8</td>\n",
       "      <td>183.4</td>\n",
       "      <td>0.0</td>\n",
       "      <td>193.3</td>\n",
       "      <td>9.1</td>\n",
       "      <td>1047.4</td>\n",
       "      <td>696.7</td>\n",
       "      <td>28</td>\n",
       "      <td>18.29</td>\n",
       "    </tr>\n",
       "    <tr>\n",
       "      <th>...</th>\n",
       "      <td>...</td>\n",
       "      <td>...</td>\n",
       "      <td>...</td>\n",
       "      <td>...</td>\n",
       "      <td>...</td>\n",
       "      <td>...</td>\n",
       "      <td>...</td>\n",
       "      <td>...</td>\n",
       "      <td>...</td>\n",
       "    </tr>\n",
       "    <tr>\n",
       "      <th>1025</th>\n",
       "      <td>135.0</td>\n",
       "      <td>0.0</td>\n",
       "      <td>166.0</td>\n",
       "      <td>180.0</td>\n",
       "      <td>10.0</td>\n",
       "      <td>961.0</td>\n",
       "      <td>805.0</td>\n",
       "      <td>28</td>\n",
       "      <td>13.29</td>\n",
       "    </tr>\n",
       "    <tr>\n",
       "      <th>1026</th>\n",
       "      <td>531.3</td>\n",
       "      <td>0.0</td>\n",
       "      <td>0.0</td>\n",
       "      <td>141.8</td>\n",
       "      <td>28.2</td>\n",
       "      <td>852.1</td>\n",
       "      <td>893.7</td>\n",
       "      <td>3</td>\n",
       "      <td>41.30</td>\n",
       "    </tr>\n",
       "    <tr>\n",
       "      <th>1027</th>\n",
       "      <td>276.4</td>\n",
       "      <td>116.0</td>\n",
       "      <td>90.3</td>\n",
       "      <td>179.6</td>\n",
       "      <td>8.9</td>\n",
       "      <td>870.1</td>\n",
       "      <td>768.3</td>\n",
       "      <td>28</td>\n",
       "      <td>44.28</td>\n",
       "    </tr>\n",
       "    <tr>\n",
       "      <th>1028</th>\n",
       "      <td>342.0</td>\n",
       "      <td>38.0</td>\n",
       "      <td>0.0</td>\n",
       "      <td>228.0</td>\n",
       "      <td>0.0</td>\n",
       "      <td>932.0</td>\n",
       "      <td>670.0</td>\n",
       "      <td>270</td>\n",
       "      <td>55.06</td>\n",
       "    </tr>\n",
       "    <tr>\n",
       "      <th>1029</th>\n",
       "      <td>540.0</td>\n",
       "      <td>0.0</td>\n",
       "      <td>0.0</td>\n",
       "      <td>173.0</td>\n",
       "      <td>0.0</td>\n",
       "      <td>1125.0</td>\n",
       "      <td>613.0</td>\n",
       "      <td>7</td>\n",
       "      <td>52.61</td>\n",
       "    </tr>\n",
       "  </tbody>\n",
       "</table>\n",
       "<p>1030 rows × 9 columns</p>\n",
       "</div>"
      ],
      "text/plain": [
       "      cement   slag    ash  water  superplastic  coarseagg  fineagg  age  \\\n",
       "0      141.3  212.0    0.0  203.5           0.0      971.8    748.5   28   \n",
       "1      168.9   42.2  124.3  158.3          10.8     1080.8    796.2   14   \n",
       "2      250.0    0.0   95.7  187.4           5.5      956.9    861.2   28   \n",
       "3      266.0  114.0    0.0  228.0           0.0      932.0    670.0   28   \n",
       "4      154.8  183.4    0.0  193.3           9.1     1047.4    696.7   28   \n",
       "...      ...    ...    ...    ...           ...        ...      ...  ...   \n",
       "1025   135.0    0.0  166.0  180.0          10.0      961.0    805.0   28   \n",
       "1026   531.3    0.0    0.0  141.8          28.2      852.1    893.7    3   \n",
       "1027   276.4  116.0   90.3  179.6           8.9      870.1    768.3   28   \n",
       "1028   342.0   38.0    0.0  228.0           0.0      932.0    670.0  270   \n",
       "1029   540.0    0.0    0.0  173.0           0.0     1125.0    613.0    7   \n",
       "\n",
       "      strength  \n",
       "0        29.89  \n",
       "1        23.51  \n",
       "2        29.22  \n",
       "3        45.85  \n",
       "4        18.29  \n",
       "...        ...  \n",
       "1025     13.29  \n",
       "1026     41.30  \n",
       "1027     44.28  \n",
       "1028     55.06  \n",
       "1029     52.61  \n",
       "\n",
       "[1030 rows x 9 columns]"
      ]
     },
     "execution_count": 33,
     "metadata": {},
     "output_type": "execute_result"
    }
   ],
   "source": [
    "# loading the data\n",
    "df = pd.read_csv('concrete (1).csv')\n",
    "df"
   ]
  },
  {
   "cell_type": "code",
   "execution_count": 34,
   "id": "ee40ab6f",
   "metadata": {},
   "outputs": [],
   "source": [
    "#basic eda\n",
    "def eda(df):\n",
    "    print('--------------------------------------------HEAD-----------------------------------------------')\n",
    "    print(df.head())\n",
    "    print('--------------------------------------------TAIL-----------------------------------------------')\n",
    "    print(df.tail())\n",
    "    print('--------------------------------------------SHAPE-----------------------------------------------')\n",
    "    print(df.shape)\n",
    "    print('--------------------------------------------IS_NULL_SUM-----------------------------------------------')\n",
    "    print(df.isnull().sum())\n",
    "    print('--------------------------------------------IS_NA_SUM-----------------------------------------------')\n",
    "    print(df.isna().sum())\n",
    "    print('--------------------------------------------COLUMNS-----------------------------------------------')\n",
    "    print(df.columns)\n",
    "    print('--------------------------------------------DTYPES-----------------------------------------------')\n",
    "    print(df.dtypes)\n",
    "    print('--------------------------------------------DESCRIBE-----------------------------------------------')\n",
    "    print(df.describe())\n",
    "    print('--------------------------------------------INFO-----------------------------------------------')\n",
    "    print(df.info())\n",
    "    print('--------------------------------------------MINI-----------------------------------------------')\n",
    "    print('Minimum age: ', df['cement'].min())\n",
    "    print('--------------------------------------------MAX-----------------------------------------------')\n",
    "    print('Maximum age: ',df['cement'].max())\n",
    "    print('--------------------------------------------MEAN-----------------------------------------------')\n",
    "    print('Mean value: ', df['cement'].mean())\n",
    "    print('--------------------------------------------MEDIAN-----------------------------------------------')\n",
    "    print('Median value: ',df['cement'].median())\n",
    "    print('--------------------------------------------STD_DEV-----------------------------------------------')\n",
    "    print('Standard deviation: ', df['cement'].std())\n",
    "    print('--------------------------------------------RANGE-----------------------------------------------')\n",
    "    print('Range of values: ', df['cement'].max()-df['cement'].min())\n",
    "    "
   ]
  },
  {
   "cell_type": "markdown",
   "id": "c0631fe0",
   "metadata": {},
   "source": [
    "# UNIVARIATE ANALYSIS\n"
   ]
  },
  {
   "cell_type": "code",
   "execution_count": 35,
   "id": "0164d448",
   "metadata": {},
   "outputs": [
    {
     "data": {
      "text/plain": [
       "<AxesSubplot:xlabel='strength', ylabel='Density'>"
      ]
     },
     "execution_count": 35,
     "metadata": {},
     "output_type": "execute_result"
    },
    {
     "data": {
      "image/png": "[encoded data removed]",
      "text/plain": [
       "<Figure size 432x288 with 1 Axes>"
      ]
     },
     "metadata": {
      "needs_background": "light"
     },
     "output_type": "display_data"
    }
   ],
   "source": [
    "sn.distplot(df['strength'])"
   ]
  },
  {
   "cell_type": "code",
   "execution_count": 36,
   "id": "5c60accc",
   "metadata": {},
   "outputs": [
    {
     "data": {
      "text/plain": [
       "<AxesSubplot:xlabel='age', ylabel='Density'>"
      ]
     },
     "execution_count": 36,
     "metadata": {},
     "output_type": "execute_result"
    },
    {
     "data": {
      "image/png": "[encoded data removed]",
      "text/plain": [
       "<Figure size 432x288 with 1 Axes>"
      ]
     },
     "metadata": {
      "needs_background": "light"
     },
     "output_type": "display_data"
    }
   ],
   "source": [
    "sn.distplot(df[\"age\"])"
   ]
  },
  {
   "cell_type": "code",
   "execution_count": 37,
   "id": "9a2d6f32",
   "metadata": {},
   "outputs": [
    {
     "name": "stdout",
     "output_type": "stream",
     "text": [
      "1st Quartile (Q1) is:  192.375\n",
      "3st Quartile (Q3) is:  350.0\n",
      "Interquartile range (IQR) is  158.0\n"
     ]
    }
   ],
   "source": [
    "Q1=df['cement'].quantile(q=0.25)\n",
    "Q3=df['cement'].quantile(q=0.75)\n",
    "print('1st Quartile (Q1) is: ', Q1)\n",
    "print('3st Quartile (Q3) is: ', Q3)\n",
    "print('Interquartile range (IQR) is ', stats.iqr(df['cement']))\n"
   ]
  },
  {
   "cell_type": "code",
   "execution_count": 38,
   "id": "28aa515c",
   "metadata": {},
   "outputs": [
    {
     "name": "stdout",
     "output_type": "stream",
     "text": [
      "Lower outliers in cement:  -44.0625\n",
      "Upper outliers in cement:  586.4375\n"
     ]
    }
   ],
   "source": [
    "# IQR=Q3-Q1\n",
    "#lower 1.5*IQR whisker i.e Q1-1.5*IQR\n",
    "#upper 1.5*IQR whisker i.e Q3+1.5*IQR\n",
    "L_outliers=Q1-1.5*(Q3-Q1)\n",
    "U_outliers=Q3+1.5*(Q3-Q1)\n",
    "print('Lower outliers in cement: ', L_outliers)\n",
    "print('Upper outliers in cement: ', U_outliers)"
   ]
  },
  {
   "cell_type": "code",
   "execution_count": 39,
   "id": "3f07384f",
   "metadata": {},
   "outputs": [
    {
     "name": "stdout",
     "output_type": "stream",
     "text": [
      "Number of outliers in cement upper :  0\n",
      "Number of outliers in cement lower :  0\n",
      "% of Outlier in cement upper:  0 %\n",
      "% of Outlier in cement lower:  0 %\n"
     ]
    }
   ],
   "source": [
    "print('Number of outliers in cement upper : ', df[df['cement']>586.4375]['cement'].count())\n",
    "print('Number of outliers in cement lower : ', df[df['cement']<-44.0625]['cement'].count())\n",
    "print('% of Outlier in cement upper: ',round(df[df['cement']>586.4375]['cement'].count()*100/len(df)), '%')\n",
    "print('% of Outlier in cement lower: ',round(df[df['cement']<-44.0625]['cement'].count()*100/len(df)), '%')"
   ]
  },
  {
   "cell_type": "code",
   "execution_count": 40,
   "id": "ba7e1aae",
   "metadata": {},
   "outputs": [
    {
     "data": {
      "image/png": "[encoded data removed]",
      "text/plain": [
       "<Figure size 936x360 with 3 Axes>"
      ]
     },
     "metadata": {
      "needs_background": "light"
     },
     "output_type": "display_data"
    }
   ],
   "source": [
    "fig, (ax1,ax2,ax3)=plt.subplots(1,3,figsize=(13,5))\n",
    "\n",
    "#boxplot\n",
    "sns.boxplot(x='cement',data=df,orient='v',ax=ax1)\n",
    "ax1.set_ylabel('Cement', fontsize=15)\n",
    "ax1.set_title('Distribution of cement', fontsize=15)\n",
    "ax1.tick_params(labelsize=15)\n",
    "\n",
    "#distplot\n",
    "sns.distplot(df['cement'],ax=ax2)\n",
    "ax2.set_xlabel('Cement', fontsize=15)\n",
    "ax2.set_ylabel('Strength', fontsize=15)\n",
    "ax2.set_title('Cement vs Strength', fontsize=15)\n",
    "ax2.tick_params(labelsize=15)\n",
    "\n",
    "#histogram\n",
    "ax3.hist(df['cement'])\n",
    "ax3.set_xlabel('Cement', fontsize=15)\n",
    "ax3.set_ylabel('Strength', fontsize=15)\n",
    "ax3.set_title('Cement vs Strength', fontsize=15)\n",
    "ax3.tick_params(labelsize=15)\n",
    "\n",
    "plt.subplots_adjust(wspace=0.5)\n",
    "plt.tight_layout() "
   ]
  },
  {
   "cell_type": "code",
   "execution_count": null,
   "id": "4500f1cd",
   "metadata": {},
   "outputs": [],
   "source": []
  },
  {
   "cell_type": "code",
   "execution_count": null,
   "id": "5ee305d7",
   "metadata": {},
   "outputs": [],
   "source": []
  }
 ],
 "metadata": {
  "kernelspec": {
   "display_name": "Python 3",
   "language": "python",
   "name": "python3"
  },
  "language_info": {
   "codemirror_mode": {
    "name": "ipython",
    "version": 3
   },
   "file_extension": ".py",
   "mimetype": "text/x-python",
   "name": "python",
   "nbconvert_exporter": "python",
   "pygments_lexer": "ipython3",
   "version": "3.8.8"
  }
 },
 "nbformat": 4,
 "nbformat_minor": 5
}
